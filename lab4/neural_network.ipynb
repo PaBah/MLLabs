{
 "cells": [
  {
   "cell_type": "markdown",
   "metadata": {},
   "source": [
    "# Отчёт по лабораторной работе №4 \"Нейронные сети\""
   ]
  },
  {
   "cell_type": "code",
   "execution_count": 1,
   "metadata": {},
   "outputs": [],
   "source": [
    "import numpy as np\n",
    "import matplotlib.pyplot as plt\n",
    "import matplotlib.cm as cm\n",
    "from scipy.io import loadmat\n",
    "import warnings\n",
    "warnings.filterwarnings('ignore')\n",
    "\n",
    "%matplotlib inline"
   ]
  },
  {
   "cell_type": "markdown",
   "metadata": {},
   "source": [
    "# 1. Загрузите данные ex4data1.mat из файла."
   ]
  },
  {
   "cell_type": "code",
   "execution_count": 2,
   "metadata": {},
   "outputs": [],
   "source": [
    "mat = loadmat('ex4data1.mat')\n",
    "X_train, y_train = mat['X'], mat['y']\n",
    "y_train = y_train.reshape(y_train.shape[0])\n",
    "y_train = np.where(y_train != 10, y_train, 0)"
   ]
  },
  {
   "cell_type": "markdown",
   "metadata": {},
   "source": [
    "# 2. Загрузите веса нейронной сети из файла ex4weights.mat, который содержит две матрицы Θ(1) (25, 401) и Θ(2) (10, 26). Какова структура полученной нейронной сети?"
   ]
  },
  {
   "cell_type": "markdown",
   "metadata": {},
   "source": [
    "Нейронная сеть состоит из трёх слоёв: входной слой содержит 400 нейронов, выходной - 10 нейронов, один промежуточный слой - 25 нейронов."
   ]
  },
  {
   "cell_type": "code",
   "execution_count": 3,
   "metadata": {},
   "outputs": [],
   "source": [
    "mat_weights = loadmat('ex4weights.mat')\n",
    "theta1 = mat_weights['Theta1']\n",
    "theta2 = mat_weights['Theta2']\n",
    "s_L = [400, 25, 10]"
   ]
  },
  {
   "cell_type": "markdown",
   "metadata": {},
   "source": [
    "# 3. Реализуйте функцию прямого распространения с сигмоидом в качестве функции активации"
   ]
  },
  {
   "cell_type": "code",
   "execution_count": 4,
   "metadata": {},
   "outputs": [],
   "source": [
    "def sigmoid(z):\n",
    "    return 1 / (1 + np.e ** (-z))\n",
    "\n",
    "def insert_ones(x):\n",
    "    if len(x.shape) == 1:\n",
    "        return np.insert(x, 0, 1)\n",
    "    return np.column_stack((np.ones(x.shape[0]), x))\n",
    "\n",
    "def unroll(weights):\n",
    "    result = np.array([])\n",
    "\n",
    "    for theta in weights:\n",
    "        result = np.concatenate((result, theta.flatten()))\n",
    "\n",
    "    return result\n",
    "\n",
    "def roll(weights):\n",
    "    weights = np.array(weights)\n",
    "    thetas = []\n",
    "    left = 0\n",
    "\n",
    "    for i in range(len(s_L) - 1):\n",
    "        x, y = s_L[i + 1], s_L[i] + 1\n",
    "        right = x*y\n",
    "        thetas.append(weights[left:left + right].reshape(x, y))\n",
    "        left = right\n",
    "\n",
    "    return thetas"
   ]
  },
  {
   "cell_type": "code",
   "execution_count": 5,
   "metadata": {},
   "outputs": [],
   "source": [
    "def forward_prop(x, thetas, cache=False):\n",
    "    cur_activation = x.copy()\n",
    "    activations = [cur_activation]\n",
    "\n",
    "    for theta_i in thetas:\n",
    "        temp_a = insert_ones(cur_activation)\n",
    "        z_i = theta_i.dot(temp_a.T).T\n",
    "        cur_activation = sigmoid(z_i)\n",
    "        if cache:\n",
    "            activations.append(cur_activation)\n",
    "\n",
    "    return activations if cache else cur_activation"
   ]
  },
  {
   "cell_type": "markdown",
   "metadata": {},
   "source": [
    "# 4. Вычислите процент правильных классификаций на обучающей выборке. Сравните полученный результат с логистической регрессией."
   ]
  },
  {
   "cell_type": "code",
   "execution_count": 6,
   "metadata": {},
   "outputs": [],
   "source": [
    "def accuracy(hyp, y):\n",
    "    return 1 - ((np.count_nonzero(hyp.argmax(axis=1) - y) / y.shape[0]))"
   ]
  },
  {
   "cell_type": "code",
   "execution_count": 7,
   "metadata": {},
   "outputs": [
    {
     "name": "stdout",
     "output_type": "stream",
     "text": [
      "Accuracy on training set: 0.0011999999999999789\n"
     ]
    }
   ],
   "source": [
    "weights = [theta1, theta2]\n",
    "hypotesis = forward_prop(X_train, weights)\n",
    "acc = accuracy(hypotesis, y_train)\n",
    "print(f\"Accuracy on training set: {acc}\")"
   ]
  },
  {
   "cell_type": "markdown",
   "metadata": {},
   "source": [
    "Как видим, точность вычислений очень низкая. Это связно с тем, что исходные веса не позволяют добиться хорошего результата. А значит нейронную сеть стоит обучить для вычисления наиболее оптимальных весов.\n",
    "\n",
    "Заметим, что логистическая регресия давала нам точность 0.9588."
   ]
  },
  {
   "cell_type": "markdown",
   "metadata": {},
   "source": [
    "# 5. Перекодируйте исходные метки классов по схеме one-hot."
   ]
  },
  {
   "cell_type": "code",
   "execution_count": 8,
   "metadata": {},
   "outputs": [],
   "source": [
    "def to_one_spot(y, num_classes=10):\n",
    "    y_one_spot = np.zeros((y.shape[0], num_classes))\n",
    "\n",
    "    for i, y_i in enumerate(y):\n",
    "        y_one_spot[i][y_i] = 1\n",
    "\n",
    "    return y_one_spot"
   ]
  },
  {
   "cell_type": "code",
   "execution_count": 10,
   "metadata": {},
   "outputs": [
    {
     "data": {
      "text/plain": [
       "((5000,), (5000, 10))"
      ]
     },
     "execution_count": 10,
     "metadata": {},
     "output_type": "execute_result"
    }
   ],
   "source": [
    "y_one_spot = to_one_spot(y_train)\n",
    "y_train.shape, y_one_spot.shape"
   ]
  },
  {
   "cell_type": "markdown",
   "metadata": {},
   "source": [
    "# 6. Реализуйте функцию стоимости для данной нейронной сети."
   ]
  },
  {
   "cell_type": "code",
   "execution_count": 11,
   "metadata": {},
   "outputs": [],
   "source": [
    "ONE = 1.0 + 1e-15\n",
    "\n",
    "def cost_func(X, y, weights):\n",
    "    total_cost = 0\n",
    "    K = y.shape[1]\n",
    "    hyp = forward_prop(X, weights)\n",
    "    for k in range(K):\n",
    "        y_k, hyp_k = y[:, k], hyp[:, k]\n",
    "        cost_trues =  y_k * np.log(hyp_k)\n",
    "        cost_falses = (1 - y_k) * np.log(ONE - hyp_k)\n",
    "        cost = cost_trues + cost_falses\n",
    "        total_cost += cost\n",
    "    return -total_cost.sum() / y.shape[0]"
   ]
  },
  {
   "cell_type": "markdown",
   "metadata": {},
   "source": [
    "# 7. Добавьте L2-регуляризацию в функцию стоимости."
   ]
  },
  {
   "cell_type": "code",
   "execution_count": 12,
   "metadata": {},
   "outputs": [],
   "source": [
    "def cost_func_regularized(X, y, weights, reg_L=1):\n",
    "    weights = roll(weights)\n",
    "    reg = 0\n",
    "    cost = cost_func(X, y, weights)\n",
    "\n",
    "    for theta in weights:\n",
    "        theta_R = theta[:, 1:]\n",
    "        reg += (theta_R ** 2).sum()\n",
    "\n",
    "    return cost + (reg_L / 2 / y.shape[0]) * reg"
   ]
  },
  {
   "cell_type": "markdown",
   "metadata": {},
   "source": [
    "# 8. Реализуйте функцию вычисления производной для функции активации."
   ]
  },
  {
   "cell_type": "code",
   "execution_count": 13,
   "metadata": {},
   "outputs": [],
   "source": [
    "def activation_der(act):\n",
    "    return act * (1 - act)"
   ]
  },
  {
   "cell_type": "markdown",
   "metadata": {},
   "source": [
    "# 9. Инициализируйте веса небольшими случайными числами."
   ]
  },
  {
   "cell_type": "markdown",
   "metadata": {},
   "source": [
    "Зададим значения случайных весов в диапазоне [-0.01, 0.01]"
   ]
  },
  {
   "cell_type": "code",
   "execution_count": 14,
   "metadata": {},
   "outputs": [],
   "source": [
    "INIT_EPS = 1e-2\n",
    "\n",
    "def initialize_weights():\n",
    "    weights = []\n",
    "\n",
    "    for i in range(len(s_L) - 1):\n",
    "        theta = np.random.random((s_L[i + 1], s_L[i] + 1)) * 2 * INIT_EPS - INIT_EPS\n",
    "        weights.append(theta)\n",
    "\n",
    "    return unroll(weights)"
   ]
  },
  {
   "cell_type": "code",
   "execution_count": 15,
   "metadata": {},
   "outputs": [
    {
     "data": {
      "text/plain": [
       "array([-0.00223469, -0.00677362, -0.00900332, ...,  0.00248924,\n",
       "        0.00782102, -0.00829766])"
      ]
     },
     "execution_count": 15,
     "metadata": {},
     "output_type": "execute_result"
    }
   ],
   "source": [
    "init_weights = initialize_weights()\n",
    "init_weights"
   ]
  },
  {
   "cell_type": "markdown",
   "metadata": {},
   "source": [
    "# 10. Реализуйте алгоритм обратного распространения ошибки для данной конфигурации сети."
   ]
  },
  {
   "cell_type": "code",
   "execution_count": 16,
   "metadata": {},
   "outputs": [],
   "source": [
    "def back_prop(X, y, weights, reg_L=0):\n",
    "    M = y.shape[0]\n",
    "    L = len(weights)\n",
    "    act = forward_prop(X, weights, cache=True)\n",
    "    Deltas = [np.zeros(theta.shape) for theta in weights]\n",
    "    \n",
    "    for i in range(M):\n",
    "        delta_L = y[i] - act[-1][i]\n",
    "        deltas = [delta_L]\n",
    "\n",
    "        for l in reversed(range(1, L)):\n",
    "            d = np.dot(weights[l].T, deltas[-1]) * activation_der(insert_ones(act[l][i]))\n",
    "            deltas.append(d[1:])\n",
    "\n",
    "        deltas = list(reversed(deltas))\n",
    "        for l in range(L):\n",
    "            Deltas[l] = Deltas[l] + np.dot(deltas[l].reshape((-1,1)), insert_ones(act[l][i]).reshape((1, -1)))\n",
    "    \n",
    "    D = []\n",
    "    for l, Delta_l in enumerate(Deltas):\n",
    "        D_l = Delta_l / M\n",
    "        D_l[:, 1:] += reg_L * weights[l][:, 1:]\n",
    "        D.append(D_l)\n",
    "    \n",
    "    return D"
   ]
  },
  {
   "cell_type": "code",
   "execution_count": 17,
   "metadata": {
    "scrolled": true
   },
   "outputs": [],
   "source": [
    "Deltas = back_prop(X_train, y_one_spot, weights)"
   ]
  },
  {
   "cell_type": "markdown",
   "metadata": {},
   "source": [
    "# 11. Для того, чтобы удостоверится в правильности вычисленных значений градиентов используйте метод проверки градиента с параметром ε = 10-4."
   ]
  },
  {
   "cell_type": "code",
   "execution_count": 18,
   "metadata": {},
   "outputs": [],
   "source": [
    "GRAD_EPS = 1e-4\n",
    "\n",
    "def check_gradient(X, y, thetas, D_vec, edge=500):\n",
    "    def J(theta):\n",
    "        return cost_func_regularized(X, y, theta)\n",
    "\n",
    "    N = min(len(thetas), edge)\n",
    "    grad_approx = np.zeros(N)\n",
    "\n",
    "    for i in range(N):\n",
    "        theta_plus, theta_minus = thetas.copy(), thetas.copy()\n",
    "        theta_plus[i] += GRAD_EPS\n",
    "        theta_minus[i] -= GRAD_EPS\n",
    "        grad_approx[i] = (J(theta_plus) - J(theta_minus)) / (2 * GRAD_EPS)\n",
    "\n",
    "    return np.allclose(grad_approx, D_vec[:N], atol=1)"
   ]
  },
  {
   "cell_type": "markdown",
   "metadata": {},
   "source": [
    "# 12. Добавьте L2-регуляризацию в процесс вычисления градиентов."
   ]
  },
  {
   "cell_type": "markdown",
   "metadata": {},
   "source": [
    "Регуляризация добавлена в метод `back_prop`."
   ]
  },
  {
   "cell_type": "markdown",
   "metadata": {},
   "source": [
    "# 13. Проверьте полученные значения градиента."
   ]
  },
  {
   "cell_type": "code",
   "execution_count": 19,
   "metadata": {},
   "outputs": [
    {
     "data": {
      "text/plain": [
       "True"
      ]
     },
     "execution_count": 19,
     "metadata": {},
     "output_type": "execute_result"
    }
   ],
   "source": [
    "check_gradient(X_train, y_one_spot, unroll(weights), unroll(Deltas))"
   ]
  },
  {
   "cell_type": "markdown",
   "metadata": {},
   "source": [
    "# 14. Обучите нейронную сеть с использованием градиентного спуска или других более эффективных методов оптимизации."
   ]
  },
  {
   "cell_type": "code",
   "execution_count": 20,
   "metadata": {},
   "outputs": [],
   "source": [
    "def train(X, y, reg_L, l_rate=0.5, max_steps=1e+3, with_history=False):\n",
    "    history = []\n",
    "    cur_weights = initialize_weights()\n",
    "    cur_loss = cost_func_regularized(X, y, cur_weights, reg_L)\n",
    "\n",
    "    cur_step = 0\n",
    "    while cur_step < max_steps:\n",
    "        cur_step += 1\n",
    "        new_weights = update_weights(X, y, cur_weights, l_rate, reg_L)\n",
    "        new_loss = cost_func_regularized(X, y, new_weights, reg_L)\n",
    "\n",
    "        if np.isnan(new_loss):\n",
    "            break\n",
    "\n",
    "        history.append((new_weights, new_loss))\n",
    "        cur_weights = new_weights\n",
    "        cur_loss = new_loss\n",
    "\n",
    "    if with_history:\n",
    "        return history\n",
    "    \n",
    "    return cur_weights\n",
    "\n",
    "\n",
    "def update_weights(X, y, weights, l_rate, reg_L):\n",
    "    gradient = unroll(back_prop(X, y, roll(weights), reg_L))\n",
    "    gradient *= l_rate\n",
    "    return weights + gradient"
   ]
  },
  {
   "cell_type": "code",
   "execution_count": 23,
   "metadata": {},
   "outputs": [],
   "source": [
    "grad_weights = train(X_train, y_one_spot, reg_L=0.003, l_rate=0.5)"
   ]
  },
  {
   "cell_type": "markdown",
   "metadata": {},
   "source": [
    "# 15. Вычислите процент правильных классификаций на обучающей выборке."
   ]
  },
  {
   "cell_type": "code",
   "execution_count": 24,
   "metadata": {},
   "outputs": [
    {
     "name": "stdout",
     "output_type": "stream",
     "text": [
      "Accuracy on training set: 0.9416\n"
     ]
    }
   ],
   "source": [
    "hypotesis = forward_prop(X_train, roll(grad_weights))\n",
    "acc = accuracy(hypotesis, y_train)\n",
    "print(f\"Accuracy on training set: {acc}\")"
   ]
  },
  {
   "cell_type": "markdown",
   "metadata": {},
   "source": [
    "# 16. Визуализируйте скрытый слой обученной сети."
   ]
  },
  {
   "cell_type": "code",
   "execution_count": 25,
   "metadata": {},
   "outputs": [],
   "source": [
    "def plot_hidden_layer(X, w):\n",
    "    hyp = forward_prop(X, roll(w), cache=True)\n",
    "    print(f\"Accuracy on training set: {accuracy(hyp[-1], y_train)}\")\n",
    "    hidden_layer = hyp[1]\n",
    "    \n",
    "    nums = list(range(150, 5000, 250))\n",
    "    size = int(np.sqrt(hidden_layer.shape[1]))\n",
    "    pictures = [hidden_layer[i].reshape((size, size)) for i in nums]\n",
    "\n",
    "    fig, axs = plt.subplots(1, 20, figsize=(20, 0.85))\n",
    "    for i, ax in enumerate(axs.flatten()):\n",
    "        ax.pcolor(pictures[i], cmap=cm.gray)\n",
    "        ax.axis('off')\n",
    "\n",
    "    plt.show()"
   ]
  },
  {
   "cell_type": "code",
   "execution_count": 26,
   "metadata": {},
   "outputs": [
    {
     "name": "stdout",
     "output_type": "stream",
     "text": [
      "Accuracy on training set: 0.9416\n"
     ]
    },
    {
     "data": {
      "image/png": "[encoded data removed]",
      "text/plain": [
       "<Figure size 1440x61.2 with 20 Axes>"
      ]
     },
     "metadata": {
      "needs_background": "light"
     },
     "output_type": "display_data"
    }
   ],
   "source": [
    "plot_hidden_layer(X_train, grad_weights)"
   ]
  },
  {
   "cell_type": "markdown",
   "metadata": {},
   "source": [
    "На изображениях представлено по два примера для каждого класса."
   ]
  },
  {
   "cell_type": "markdown",
   "metadata": {},
   "source": [
    "# 17. Подберите параметр регуляризации. Как меняются изображения на скрытом слое в зависимости от данного параметра?"
   ]
  },
  {
   "cell_type": "code",
   "execution_count": 27,
   "metadata": {},
   "outputs": [
    {
     "name": "stdout",
     "output_type": "stream",
     "text": [
      "Accuracy on training set: 0.1008\n"
     ]
    },
    {
     "data": {
      "image/png": "[encoded data removed]",
      "text/plain": [
       "<Figure size 1440x61.2 with 20 Axes>"
      ]
     },
     "metadata": {
      "needs_background": "light"
     },
     "output_type": "display_data"
    },
    {
     "name": "stdout",
     "output_type": "stream",
     "text": [
      "Accuracy on training set: 0.10019999999999996\n"
     ]
    },
    {
     "data": {
      "image/png": "[encoded data removed]",
      "text/plain": [
       "<Figure size 1440x61.2 with 20 Axes>"
      ]
     },
     "metadata": {
      "needs_background": "light"
     },
     "output_type": "display_data"
    },
    {
     "name": "stdout",
     "output_type": "stream",
     "text": [
      "Accuracy on training set: 0.4052\n"
     ]
    },
    {
     "data": {
      "image/png": "[encoded data removed]",
      "text/plain": [
       "<Figure size 1440x61.2 with 20 Axes>"
      ]
     },
     "metadata": {
      "needs_background": "light"
     },
     "output_type": "display_data"
    },
    {
     "name": "stdout",
     "output_type": "stream",
     "text": [
      "Accuracy on training set: 0.8568\n"
     ]
    },
    {
     "data": {
      "image/png": "[encoded data removed]",
      "text/plain": [
       "<Figure size 1440x61.2 with 20 Axes>"
      ]
     },
     "metadata": {
      "needs_background": "light"
     },
     "output_type": "display_data"
    },
    {
     "name": "stdout",
     "output_type": "stream",
     "text": [
      "Accuracy on training set: 0.9062\n"
     ]
    },
    {
     "data": {
      "image/png": "[encoded data removed]",
      "text/plain": [
       "<Figure size 1440x61.2 with 20 Axes>"
      ]
     },
     "metadata": {
      "needs_background": "light"
     },
     "output_type": "display_data"
    },
    {
     "name": "stdout",
     "output_type": "stream",
     "text": [
      "Accuracy on training set: 0.9412\n"
     ]
    },
    {
     "data": {
      "image/png": "[encoded data removed]",
      "text/plain": [
       "<Figure size 1440x61.2 with 20 Axes>"
      ]
     },
     "metadata": {
      "needs_background": "light"
     },
     "output_type": "display_data"
    }
   ],
   "source": [
    "reg_L_list = [1, 0.3, 0.1, 0.03, 0.01, 0.003]\n",
    "steps = [20, 50, 75, 400, 600, 1000]\n",
    "\n",
    "for i, reg_l in enumerate(reg_L_list):\n",
    "    weights_l = train(X_train, y_one_spot, reg_L=reg_l, l_rate=0.5, max_steps=steps[i])\n",
    "    plot_hidden_layer(X_train, weights_l)"
   ]
  },
  {
   "cell_type": "markdown",
   "metadata": {},
   "source": [
    "О хорошо подобранном параметре регуляризации свидетельствуют изображения на скрытом слое: чем более разряженны изображения, тем лучше подобран параметр. Разряженные изображения несут мало информации о своём визуальном контенте изображения, но они дают нейронной сети больше информации о том, к какому классу они принадлежат. Также высокая точность нейронной сети свидетельствует о хорошо подобранном параметре регуляризации."
   ]
  }
 ],
 "metadata": {
  "kernelspec": {
   "display_name": "Python 3",
   "language": "python",
   "name": "python3"
  },
  "language_info": {
   "codemirror_mode": {
    "name": "ipython",
    "version": 3
   },
   "file_extension": ".py",
   "mimetype": "text/x-python",
   "name": "python",
   "nbconvert_exporter": "python",
   "pygments_lexer": "ipython3",
   "version": "3.6.7"
  }
 },
 "nbformat": 4,
 "nbformat_minor": 2
}
