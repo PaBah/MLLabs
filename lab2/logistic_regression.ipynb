{
 "cells": [
  {
   "cell_type": "markdown",
   "metadata": {},
   "source": [
    "# Отчёт по лабораторной работе №2 \"Логистическая регрессия\""
   ]
  },
  {
   "cell_type": "code",
   "execution_count": 1,
   "metadata": {},
   "outputs": [],
   "source": [
    "import numpy as np\n",
    "import pandas as pd\n",
    "import matplotlib.pyplot as plt\n",
    "import matplotlib.cm as cm\n",
    "import warnings\n",
    "warnings.filterwarnings('ignore')\n",
    "\n",
    "%matplotlib inline"
   ]
  },
  {
   "cell_type": "code",
   "execution_count": 2,
   "metadata": {},
   "outputs": [],
   "source": [
    "def load_file(filename, names):\n",
    "    return pd.read_csv(filename, header=None, names=names)"
   ]
  },
  {
   "cell_type": "markdown",
   "metadata": {},
   "source": [
    "# 1. Загрузите данные ex2data1.txt из текстового файла."
   ]
  },
  {
   "cell_type": "code",
   "execution_count": 3,
   "metadata": {},
   "outputs": [
    {
     "data": {
      "text/html": [
       "<div>\n",
       "<style scoped>\n",
       "    .dataframe tbody tr th:only-of-type {\n",
       "        vertical-align: middle;\n",
       "    }\n",
       "\n",
       "    .dataframe tbody tr th {\n",
       "        vertical-align: top;\n",
       "    }\n",
       "\n",
       "    .dataframe thead th {\n",
       "        text-align: right;\n",
       "    }\n",
       "</style>\n",
       "<table border=\"1\" class=\"dataframe\">\n",
       "  <thead>\n",
       "    <tr style=\"text-align: right;\">\n",
       "      <th></th>\n",
       "      <th>first_exam</th>\n",
       "      <th>second_exam</th>\n",
       "      <th>accepted</th>\n",
       "    </tr>\n",
       "  </thead>\n",
       "  <tbody>\n",
       "    <tr>\n",
       "      <td>0</td>\n",
       "      <td>34.623660</td>\n",
       "      <td>78.024693</td>\n",
       "      <td>0</td>\n",
       "    </tr>\n",
       "    <tr>\n",
       "      <td>1</td>\n",
       "      <td>30.286711</td>\n",
       "      <td>43.894998</td>\n",
       "      <td>0</td>\n",
       "    </tr>\n",
       "    <tr>\n",
       "      <td>2</td>\n",
       "      <td>35.847409</td>\n",
       "      <td>72.902198</td>\n",
       "      <td>0</td>\n",
       "    </tr>\n",
       "    <tr>\n",
       "      <td>3</td>\n",
       "      <td>60.182599</td>\n",
       "      <td>86.308552</td>\n",
       "      <td>1</td>\n",
       "    </tr>\n",
       "    <tr>\n",
       "      <td>4</td>\n",
       "      <td>79.032736</td>\n",
       "      <td>75.344376</td>\n",
       "      <td>1</td>\n",
       "    </tr>\n",
       "    <tr>\n",
       "      <td>...</td>\n",
       "      <td>...</td>\n",
       "      <td>...</td>\n",
       "      <td>...</td>\n",
       "    </tr>\n",
       "    <tr>\n",
       "      <td>95</td>\n",
       "      <td>83.489163</td>\n",
       "      <td>48.380286</td>\n",
       "      <td>1</td>\n",
       "    </tr>\n",
       "    <tr>\n",
       "      <td>96</td>\n",
       "      <td>42.261701</td>\n",
       "      <td>87.103851</td>\n",
       "      <td>1</td>\n",
       "    </tr>\n",
       "    <tr>\n",
       "      <td>97</td>\n",
       "      <td>99.315009</td>\n",
       "      <td>68.775409</td>\n",
       "      <td>1</td>\n",
       "    </tr>\n",
       "    <tr>\n",
       "      <td>98</td>\n",
       "      <td>55.340018</td>\n",
       "      <td>64.931938</td>\n",
       "      <td>1</td>\n",
       "    </tr>\n",
       "    <tr>\n",
       "      <td>99</td>\n",
       "      <td>74.775893</td>\n",
       "      <td>89.529813</td>\n",
       "      <td>1</td>\n",
       "    </tr>\n",
       "  </tbody>\n",
       "</table>\n",
       "<p>100 rows × 3 columns</p>\n",
       "</div>"
      ],
      "text/plain": [
       "    first_exam  second_exam  accepted\n",
       "0    34.623660    78.024693         0\n",
       "1    30.286711    43.894998         0\n",
       "2    35.847409    72.902198         0\n",
       "3    60.182599    86.308552         1\n",
       "4    79.032736    75.344376         1\n",
       "..         ...          ...       ...\n",
       "95   83.489163    48.380286         1\n",
       "96   42.261701    87.103851         1\n",
       "97   99.315009    68.775409         1\n",
       "98   55.340018    64.931938         1\n",
       "99   74.775893    89.529813         1\n",
       "\n",
       "[100 rows x 3 columns]"
      ]
     },
     "execution_count": 3,
     "metadata": {},
     "output_type": "execute_result"
    }
   ],
   "source": [
    "df = load_file('ex2data1.txt', ['first_exam', 'second_exam', 'accepted'])\n",
    "X_train, y_train = df.filter(['first_exam', 'second_exam']), df['accepted']\n",
    "df"
   ]
  },
  {
   "cell_type": "markdown",
   "metadata": {},
   "source": [
    "# 2. Постройте график, где по осям откладываются оценки по предметам, а точки обозначаются двумя разными маркерами в зависимости от того, поступил ли данный студент в университет или нет."
   ]
  },
  {
   "cell_type": "code",
   "execution_count": 4,
   "metadata": {
    "scrolled": true
   },
   "outputs": [
    {
     "data": {
      "image/png": "[encoded data removed]",
      "text/plain": [
       "<Figure size 432x288 with 1 Axes>"
      ]
     },
     "metadata": {
      "needs_background": "light"
     },
     "output_type": "display_data"
    }
   ],
   "source": [
    "z_true = df[df['accepted'] == 1]\n",
    "z_false = df[df['accepted'] == 0]\n",
    "fig, ax = plt.subplots()\n",
    "ax.scatter(z_true['first_exam'], z_true['second_exam'], marker='o', c='g', label='Accepted', s=20)\n",
    "ax.scatter(z_false['first_exam'], z_false['second_exam'], marker='x', c='r', label='Not accepted', s=20)\n",
    "ax.legend(loc='upper right');\n",
    "ax.set_xlabel('First exam')\n",
    "ax.set_ylabel('Second exam')\n",
    "plt.show()"
   ]
  },
  {
   "cell_type": "markdown",
   "metadata": {},
   "source": [
    "### Реализация логистической регрессии в объекто-ориентированном стиле"
   ]
  },
  {
   "cell_type": "code",
   "execution_count": 5,
   "metadata": {},
   "outputs": [],
   "source": [
    "from utils import sigmoid\n",
    "\n",
    "class LogisticRegression:\n",
    "    THRESHOLD = 1e-6\n",
    "\n",
    "    def __init__(self, fit_method='gradient_descent', max_steps=100000,\n",
    "                 learning_rate=0.01, regularized=False, reg_L=0.5, log=False):\n",
    "        self.weights = []\n",
    "        self.max_steps = max_steps\n",
    "        self.learning_rate = learning_rate\n",
    "        self.regularized = regularized\n",
    "        self.reg_L = reg_L\n",
    "        self.cost_func = self.cost_func_regularized if regularized else self.cost_func_non_regularized\n",
    "        self.cost_der = self.cost_der_regularized if regularized else self.cost_der_non_regularized\n",
    "        self.fit_method = getattr(self, fit_method)\n",
    "        self.log = log\n",
    "        \n",
    "    def fit(self, X, y):\n",
    "        if hasattr(X, 'values'):\n",
    "            X = X.values\n",
    "        if hasattr(y, 'values'):\n",
    "            y = y.values\n",
    "\n",
    "        X = X.astype('float64') \n",
    "        y = y.astype('float64')\n",
    "        \n",
    "        if not self.regularized:\n",
    "            X = np.column_stack((np.ones(X.shape[0]), X))\n",
    "        \n",
    "        self.fit_method(X, y)\n",
    "    \n",
    "    def predict(self, X):\n",
    "        if self.weights is None:\n",
    "            raise Exception(\"Model is not trained. Call `fit` method.\")\n",
    "\n",
    "        X = np.array(X)\n",
    "        if not self.regularized:\n",
    "            X = np.insert(X, 0, 1)\n",
    "        h = self.calculate_hypotesis(X)\n",
    "        return 1 if h >= 0.5 else 0\n",
    "    \n",
    "    def gradient_descent(self, X, y):\n",
    "        self.cost_history = []\n",
    "        self.weights = np.zeros(X.shape[1])\n",
    "        cur_loss = self.cost_func(X, y)\n",
    "\n",
    "        cur_step = 0\n",
    "        while cur_step < self.max_steps:\n",
    "            cur_step += 1\n",
    "            self.gradient_descent_step(X, y)\n",
    "            new_loss = self.cost_func(X, y)\n",
    "            self.cost_history.append(new_loss)\n",
    "            if abs(new_loss - cur_loss) < self.THRESHOLD:\n",
    "                break\n",
    "\n",
    "            cur_loss = new_loss\n",
    "    \n",
    "    def gradient_descent_step(self, X, y):\n",
    "        gradient = self.cost_der(X, y, self.weights)\n",
    "        gradient *= self.learning_rate\n",
    "        self.weights -= gradient\n",
    "    \n",
    "    def cost_func_non_regularized(self, X, y, weights=None):\n",
    "        if weights is None:\n",
    "            weights = self.weights\n",
    "        \n",
    "        predictions = self.calculate_hypotesis(X, weights)\n",
    "        cost_trues = y * np.log(predictions)\n",
    "        cost_falses = (1 - y) * np.log(1 - predictions)\n",
    "        total_cost = -np.mean(cost_trues + cost_falses)\n",
    "        return total_cost\n",
    "    \n",
    "    def cost_func_regularized(self, X, y, weights=None):\n",
    "        if weights is None:\n",
    "            weights = self.weights\n",
    "        \n",
    "        cost = self.cost_func_non_regularized(X, y, weights)\n",
    "        weights_R = weights[1:]\n",
    "        total_cost = cost + (self.reg_L / 2 / X.shape[0]) * np.dot(weights_R.T, weights_R)\n",
    "        return total_cost\n",
    "    \n",
    "    def calculate_hypotesis(self, X, weights=None):\n",
    "        if weights is None:\n",
    "            weights = self.weights\n",
    "\n",
    "        return sigmoid(X.dot(weights))\n",
    "    \n",
    "    def cost_der_non_regularized(self, X, y, theta):\n",
    "        predictions = self.calculate_hypotesis(X, weights=theta)\n",
    "        sq_error = predictions - y\n",
    "        gradient = np.dot(X.T, sq_error)\n",
    "        gradient /= X.shape[0]\n",
    "        return gradient\n",
    "\n",
    "    def cost_der_regularized(self, X, y, theta):\n",
    "        predictions = self.calculate_hypotesis(X, weights=theta)\n",
    "        sq_error = predictions - y\n",
    "        gradient_first = np.dot(X.T[:1], sq_error)\n",
    "        gradient_full = np.dot(X.T[1:], sq_error) + self.reg_L * theta[1:]\n",
    "        gradient = np.insert(gradient_full, 0, gradient_first)\n",
    "        gradient /= X.shape[0]\n",
    "        return gradient\n",
    "    \n",
    "    def nelder_mead_algo(self, X, y):\n",
    "        from scipy.optimize import fmin\n",
    "\n",
    "        N = X.shape[0]\n",
    "\n",
    "        def func(theta):\n",
    "            return self.cost_func(X, y, theta)\n",
    "        \n",
    "        init_theta = np.zeros(X.shape[1])\n",
    "        self.weights = fmin(func, init_theta, xtol=self.THRESHOLD, maxfun=100000)\n",
    "    \n",
    "    def bfgs_algo(self, X, y):\n",
    "        from scipy.optimize import fmin_bfgs\n",
    "\n",
    "        N = X.shape[0]\n",
    "\n",
    "        def func(theta):\n",
    "            return self.cost_func(X, y, theta)\n",
    "        \n",
    "        def func_der(theta):\n",
    "            return self.cost_der(X, y, theta)\n",
    "\n",
    "        init_theta = np.zeros(X.shape[1])\n",
    "        self.weights = fmin_bfgs(func, init_theta, fprime=func_der, gtol=self.THRESHOLD, disp=self.log)"
   ]
  },
  {
   "cell_type": "markdown",
   "metadata": {},
   "source": [
    "# 3. Реализуйте функции потерь J(θ) и градиентного спуска для логистической регрессии с использованием векторизации."
   ]
  },
  {
   "cell_type": "markdown",
   "metadata": {},
   "source": [
    "Функция потерь реализована в классе `LogisticRegression` в методе `cost_func_non_regularized`."
   ]
  },
  {
   "cell_type": "markdown",
   "metadata": {},
   "source": [
    "Градиентный спуск реализован в классе `LogisticRegression` в методах `gradient_descent` и `gradient_descent_step`."
   ]
  },
  {
   "cell_type": "code",
   "execution_count": 6,
   "metadata": {},
   "outputs": [
    {
     "name": "stdout",
     "output_type": "stream",
     "text": [
      "Minimum cost function value: 0.20379167132378806\n",
      "Iterations: 264018\n",
      "Weights: [-24.03770043   0.19769988   0.19281427]\n"
     ]
    }
   ],
   "source": [
    "cls_grad = LogisticRegression(fit_method='gradient_descent', max_steps=300000, learning_rate=0.004)\n",
    "cls_grad.fit(X_train, y_train)\n",
    "print(f'Minimum cost function value: {cls_grad.cost_history[-1]}')\n",
    "print(f'Iterations: {len(cls_grad.cost_history)}')\n",
    "print(f'Weights: {cls_grad.weights}')"
   ]
  },
  {
   "cell_type": "markdown",
   "metadata": {},
   "source": [
    "# 4. Реализуйте другие методы (как минимум 2) оптимизации для реализованной функции стоимости.\n",
    "Выбранные методы:  \n",
    "    - Нелдера — Мида\n",
    "    - Бройдена — Флетчера — Гольдфарба — Шанно"
   ]
  },
  {
   "cell_type": "code",
   "execution_count": 7,
   "metadata": {},
   "outputs": [
    {
     "name": "stdout",
     "output_type": "stream",
     "text": [
      "Optimization terminated successfully.\n",
      "         Current function value: 0.203498\n",
      "         Iterations: 185\n",
      "         Function evaluations: 339\n",
      "Weights: [-25.16133398   0.20623172   0.2014716 ]\n"
     ]
    }
   ],
   "source": [
    "cls_nm = LogisticRegression(fit_method='nelder_mead_algo')\n",
    "cls_nm.fit(X_train, y_train)\n",
    "print(f'Weights: {cls_nm.weights}')"
   ]
  },
  {
   "cell_type": "code",
   "execution_count": 8,
   "metadata": {},
   "outputs": [
    {
     "name": "stdout",
     "output_type": "stream",
     "text": [
      "Optimization terminated successfully.\n",
      "         Current function value: 0.203498\n",
      "         Iterations: 23\n",
      "         Function evaluations: 31\n",
      "         Gradient evaluations: 31\n",
      "Weights: [-25.16133284   0.2062317    0.2014716 ]\n"
     ]
    }
   ],
   "source": [
    "cls_bfgs = LogisticRegression(fit_method='bfgs_algo', log=True)\n",
    "cls_bfgs.fit(X_train, y_train)\n",
    "print(f'Weights: {cls_bfgs.weights}')"
   ]
  },
  {
   "cell_type": "markdown",
   "metadata": {},
   "source": [
    "Как можно видеть из вывода, все методы минимазации функции стоимости дают приблизительно одинаковые результаты."
   ]
  },
  {
   "cell_type": "markdown",
   "metadata": {},
   "source": [
    "# 5. Реализуйте функцию предсказания вероятности поступления студента в зависимости от значений оценок по экзаменам."
   ]
  },
  {
   "cell_type": "markdown",
   "metadata": {},
   "source": [
    "Функция предсказания реализована в классе `LogisticRegression` в методе `predict`."
   ]
  },
  {
   "cell_type": "markdown",
   "metadata": {},
   "source": [
    "# 6. Постройте разделяющую прямую, полученную в результате обучения модели. Совместите прямую с графиком из пункта 2."
   ]
  },
  {
   "cell_type": "markdown",
   "metadata": {},
   "source": [
    "Из графика можно видеть, что граница решений разделяет два класс достаточно точно с минимальными ошибками. "
   ]
  },
  {
   "cell_type": "code",
   "execution_count": 9,
   "metadata": {},
   "outputs": [
    {
     "data": {
      "image/png": "[encoded data removed]",
      "text/plain": [
       "<Figure size 432x288 with 1 Axes>"
      ]
     },
     "metadata": {
      "needs_background": "light"
     },
     "output_type": "display_data"
    }
   ],
   "source": [
    "z_true = df[df['accepted'] == 1]\n",
    "z_false = df[df['accepted'] == 0]\n",
    "\n",
    "def decision_boundary(x, weights):\n",
    "    return -(weights[0] + weights[1] * x) / weights[2]\n",
    "\n",
    "fig, ax = plt.subplots()\n",
    "ax.scatter(z_true['first_exam'], z_true['second_exam'], marker='o', c='g', label='Accepted', s=20)\n",
    "ax.scatter(z_false['first_exam'], z_false['second_exam'], marker='x', c='r', label='Not accepted', s=20)\n",
    "ax.plot(z_false['first_exam'],\n",
    "        [decision_boundary(i, cls_grad.weights) for i in z_false['first_exam']],\n",
    "        c='b', label='Decision boundary')\n",
    "ax.legend(loc='upper right');\n",
    "ax.set_xlabel('First exam')\n",
    "ax.set_ylabel('Second exam')\n",
    "plt.show()"
   ]
  },
  {
   "cell_type": "markdown",
   "metadata": {},
   "source": [
    "# 7. Загрузите данные ex2data2.txt из текстового файла."
   ]
  },
  {
   "cell_type": "code",
   "execution_count": 10,
   "metadata": {},
   "outputs": [
    {
     "data": {
      "text/html": [
       "<div>\n",
       "<style scoped>\n",
       "    .dataframe tbody tr th:only-of-type {\n",
       "        vertical-align: middle;\n",
       "    }\n",
       "\n",
       "    .dataframe tbody tr th {\n",
       "        vertical-align: top;\n",
       "    }\n",
       "\n",
       "    .dataframe thead th {\n",
       "        text-align: right;\n",
       "    }\n",
       "</style>\n",
       "<table border=\"1\" class=\"dataframe\">\n",
       "  <thead>\n",
       "    <tr style=\"text-align: right;\">\n",
       "      <th></th>\n",
       "      <th>first_test</th>\n",
       "      <th>second_test</th>\n",
       "      <th>passed</th>\n",
       "    </tr>\n",
       "  </thead>\n",
       "  <tbody>\n",
       "    <tr>\n",
       "      <td>0</td>\n",
       "      <td>0.051267</td>\n",
       "      <td>0.699560</td>\n",
       "      <td>1</td>\n",
       "    </tr>\n",
       "    <tr>\n",
       "      <td>1</td>\n",
       "      <td>-0.092742</td>\n",
       "      <td>0.684940</td>\n",
       "      <td>1</td>\n",
       "    </tr>\n",
       "    <tr>\n",
       "      <td>2</td>\n",
       "      <td>-0.213710</td>\n",
       "      <td>0.692250</td>\n",
       "      <td>1</td>\n",
       "    </tr>\n",
       "    <tr>\n",
       "      <td>3</td>\n",
       "      <td>-0.375000</td>\n",
       "      <td>0.502190</td>\n",
       "      <td>1</td>\n",
       "    </tr>\n",
       "    <tr>\n",
       "      <td>4</td>\n",
       "      <td>-0.513250</td>\n",
       "      <td>0.465640</td>\n",
       "      <td>1</td>\n",
       "    </tr>\n",
       "    <tr>\n",
       "      <td>...</td>\n",
       "      <td>...</td>\n",
       "      <td>...</td>\n",
       "      <td>...</td>\n",
       "    </tr>\n",
       "    <tr>\n",
       "      <td>113</td>\n",
       "      <td>-0.720620</td>\n",
       "      <td>0.538740</td>\n",
       "      <td>0</td>\n",
       "    </tr>\n",
       "    <tr>\n",
       "      <td>114</td>\n",
       "      <td>-0.593890</td>\n",
       "      <td>0.494880</td>\n",
       "      <td>0</td>\n",
       "    </tr>\n",
       "    <tr>\n",
       "      <td>115</td>\n",
       "      <td>-0.484450</td>\n",
       "      <td>0.999270</td>\n",
       "      <td>0</td>\n",
       "    </tr>\n",
       "    <tr>\n",
       "      <td>116</td>\n",
       "      <td>-0.006336</td>\n",
       "      <td>0.999270</td>\n",
       "      <td>0</td>\n",
       "    </tr>\n",
       "    <tr>\n",
       "      <td>117</td>\n",
       "      <td>0.632650</td>\n",
       "      <td>-0.030612</td>\n",
       "      <td>0</td>\n",
       "    </tr>\n",
       "  </tbody>\n",
       "</table>\n",
       "<p>118 rows × 3 columns</p>\n",
       "</div>"
      ],
      "text/plain": [
       "     first_test  second_test  passed\n",
       "0      0.051267     0.699560       1\n",
       "1     -0.092742     0.684940       1\n",
       "2     -0.213710     0.692250       1\n",
       "3     -0.375000     0.502190       1\n",
       "4     -0.513250     0.465640       1\n",
       "..          ...          ...     ...\n",
       "113   -0.720620     0.538740       0\n",
       "114   -0.593890     0.494880       0\n",
       "115   -0.484450     0.999270       0\n",
       "116   -0.006336     0.999270       0\n",
       "117    0.632650    -0.030612       0\n",
       "\n",
       "[118 rows x 3 columns]"
      ]
     },
     "execution_count": 10,
     "metadata": {},
     "output_type": "execute_result"
    }
   ],
   "source": [
    "df = load_file('ex2data2.txt', names=['first_test', 'second_test', 'passed'])\n",
    "X_train, y_train = df.filter(['first_test', 'second_test']), df['passed']\n",
    "df"
   ]
  },
  {
   "cell_type": "markdown",
   "metadata": {},
   "source": [
    "# 8. Постройте график, где по осям откладываются результаты тестов, а точки обозначаются двумя разными маркерами в зависимости от того, прошло ли изделие контроль или нет."
   ]
  },
  {
   "cell_type": "code",
   "execution_count": 11,
   "metadata": {},
   "outputs": [
    {
     "data": {
      "image/png": "[encoded data removed]",
      "text/plain": [
       "<Figure size 432x288 with 1 Axes>"
      ]
     },
     "metadata": {
      "needs_background": "light"
     },
     "output_type": "display_data"
    }
   ],
   "source": [
    "z_true = df[df['passed'] == 1]\n",
    "z_false = df[df['passed'] == 0]\n",
    "fig, ax_reg = plt.subplots()\n",
    "ax_reg.scatter(z_true['first_test'], z_true['second_test'], marker='o', c='g', label='Passed', s=20)\n",
    "ax_reg.scatter(z_false['first_test'], z_false['second_test'], marker='x', c='r', label='Not passed', s=20)\n",
    "ax_reg.legend(loc='upper right');\n",
    "ax_reg.set_xlabel('First test')\n",
    "ax_reg.set_ylabel('Second test')\n",
    "plt.show()"
   ]
  },
  {
   "cell_type": "markdown",
   "metadata": {},
   "source": [
    "# 9. Постройте все возможные комбинации признаков x1 (результат первого теста) и x2 (результат второго теста), в которых степень полинома не превышает 6 (всего 28 комбинаций)."
   ]
  },
  {
   "cell_type": "code",
   "execution_count": 12,
   "metadata": {},
   "outputs": [],
   "source": [
    "def build_poly_features(x1, x2, log=False):\n",
    "    degree = 6\n",
    "    res = []\n",
    "    str_res = []\n",
    "\n",
    "    for i in range(degree + 1):\n",
    "        for j in range(i, degree + 1):\n",
    "            res.append(x1**(j - i) * x2**i)\n",
    "            first = '' if j - i == 0 else 'x1' if j - i == 1 else f'x1^{j - i}'\n",
    "            second = '' if i == 0 else 'x2' if i == 1 else f'x2^{i}'\n",
    "            if not first and not second:\n",
    "                str_append = '1'\n",
    "            elif first and not second:\n",
    "                str_append = first\n",
    "            elif second and not first:\n",
    "                str_append = second\n",
    "            else:\n",
    "                str_append = f\"{first}*{second}\"\n",
    "            str_res.append(str_append)\n",
    "\n",
    "    str_res = ' + '.join(str_res)\n",
    "    if log:\n",
    "        print(str_res)\n",
    "    assert len(res) == 28\n",
    "    return np.array(res).T"
   ]
  },
  {
   "cell_type": "code",
   "execution_count": 13,
   "metadata": {},
   "outputs": [
    {
     "name": "stdout",
     "output_type": "stream",
     "text": [
      "1 + x1 + x1^2 + x1^3 + x1^4 + x1^5 + x1^6 + x2 + x1*x2 + x1^2*x2 + x1^3*x2 + x1^4*x2 + x1^5*x2 + x2^2 + x1*x2^2 + x1^2*x2^2 + x1^3*x2^2 + x1^4*x2^2 + x2^3 + x1*x2^3 + x1^2*x2^3 + x1^3*x2^3 + x2^4 + x1*x2^4 + x1^2*x2^4 + x2^5 + x1*x2^5 + x2^6\n"
     ]
    }
   ],
   "source": [
    "X_poly = build_poly_features(X_train['first_test'], X_train['second_test'], log=True)"
   ]
  },
  {
   "cell_type": "markdown",
   "metadata": {},
   "source": [
    "# 10. Реализуйте L2-регуляризацию для логистической регрессии и обучите ее на расширенном наборе признаков методом градиентного спуска"
   ]
  },
  {
   "cell_type": "code",
   "execution_count": 14,
   "metadata": {},
   "outputs": [
    {
     "name": "stdout",
     "output_type": "stream",
     "text": [
      "Minimum cost function value: 0.4830842899534604\n",
      "Iterations: 810\n",
      "Weights: [ 1.65208622  0.94431514 -2.64940137  0.25975329 -1.94720963 -0.28830575\n",
      " -1.40795909  1.63711103 -1.41181861 -0.55414548 -0.06395618 -0.30130378\n",
      "  0.05023522 -1.9845273  -0.51557881 -0.86765101 -0.03547762 -0.40798724\n",
      " -0.18554811 -0.44731424 -0.41074822  0.02884999 -1.60347872 -0.46001569\n",
      " -0.46740685 -0.52305424 -0.25283157 -1.18129922]\n"
     ]
    }
   ],
   "source": [
    "cls_grad_reg = LogisticRegression(fit_method='gradient_descent', regularized=True,\n",
    "                                  max_steps=300000, learning_rate=0.5, reg_L=0.5)\n",
    "cls_grad_reg.fit(X_poly, y_train)\n",
    "print(f'Minimum cost function value: {cls_grad_reg.cost_history[-1]}')\n",
    "print(f'Iterations: {len(cls_grad_reg.cost_history)}')\n",
    "print(f'Weights: {cls_grad_reg.weights}')"
   ]
  },
  {
   "cell_type": "markdown",
   "metadata": {},
   "source": [
    "# 11. Реализуйте другие методы оптимизации."
   ]
  },
  {
   "cell_type": "markdown",
   "metadata": {},
   "source": [
    "Используем ранее выбранные алгоритмы оптимизации"
   ]
  },
  {
   "cell_type": "code",
   "execution_count": 15,
   "metadata": {},
   "outputs": [
    {
     "name": "stdout",
     "output_type": "stream",
     "text": [
      "Optimization terminated successfully.\n",
      "         Current function value: 0.555505\n",
      "         Iterations: 25954\n",
      "         Function evaluations: 31091\n",
      "Weights: [ 1.12594906  0.24134085 -2.31420683  0.55470573 -1.67237848 -0.40342394\n",
      "  0.16484985  0.80201203 -0.92787628  0.29253867  1.11388032  0.30459765\n",
      "  0.77128112 -1.50790055 -0.06941374  0.18185012  1.78287659  0.10760548\n",
      "  1.23201507 -1.16820284 -1.22854238  0.56241007 -0.94218806  0.97961079\n",
      " -0.19487654 -0.73439587  1.2956786  -1.05680772]\n"
     ]
    }
   ],
   "source": [
    "cls_nm_reg = LogisticRegression(fit_method='nelder_mead_algo', regularized=True)\n",
    "cls_nm_reg.fit(X_poly, y_train)\n",
    "print(f'Weights: {cls_nm_reg.weights}')"
   ]
  },
  {
   "cell_type": "code",
   "execution_count": 17,
   "metadata": {},
   "outputs": [
    {
     "name": "stdout",
     "output_type": "stream",
     "text": [
      "Optimization terminated successfully.\n",
      "         Current function value: 0.482934\n",
      "         Iterations: 70\n",
      "         Function evaluations: 71\n",
      "         Gradient evaluations: 71\n",
      "Weights: [ 1.69992017e+00  9.73425710e-01 -2.71205027e+00  2.69841288e-01\n",
      " -1.97406880e+00 -3.01656781e-01 -1.42846670e+00  1.67267436e+00\n",
      " -1.49381280e+00 -5.67645033e-01 -2.05207890e-02 -2.95925875e-01\n",
      "  8.26085884e-02 -2.11922466e+00 -5.01522975e-01 -8.94137108e-01\n",
      "  1.63371223e-03 -4.13878871e-01 -1.94825890e-01 -4.75526451e-01\n",
      " -4.35533804e-01  5.34666739e-02 -1.62994970e+00 -4.80852527e-01\n",
      " -4.86440776e-01 -4.74910329e-01 -2.77072656e-01 -1.13402788e+00]\n"
     ]
    }
   ],
   "source": [
    "cls_bfgs_reg = LogisticRegression(fit_method='bfgs_algo', regularized=True, log=True)\n",
    "cls_bfgs_reg.fit(X_poly, y_train)\n",
    "print(f'Weights: {cls_bfgs_reg.weights}')"
   ]
  },
  {
   "cell_type": "markdown",
   "metadata": {},
   "source": [
    "Как видим, результаты получились схожими для всех алгоритмов"
   ]
  },
  {
   "cell_type": "markdown",
   "metadata": {},
   "source": [
    "# 12. Реализуйте функцию предсказания вероятности прохождения контроля изделием в зависимости от результатов тестов."
   ]
  },
  {
   "cell_type": "markdown",
   "metadata": {},
   "source": [
    "Функция предсказания реализована в классе LogisticRegression в методе predict."
   ]
  },
  {
   "cell_type": "code",
   "execution_count": 19,
   "metadata": {},
   "outputs": [
    {
     "name": "stdout",
     "output_type": "stream",
     "text": [
      "Predicted class: 1, actual class: 1\n",
      "Predicted class: 1, actual class: 1\n",
      "Predicted class: 1, actual class: 1\n"
     ]
    }
   ],
   "source": [
    "print(f\"Predicted class: {cls_grad_reg.predict(X_poly[0])}, actual class: {y_train[0]}\")\n",
    "print(f\"Predicted class: {cls_nm_reg.predict(X_poly[0])}, actual class: {y_train[0]}\")\n",
    "print(f\"Predicted class: {cls_bfgs_reg.predict(X_poly[0])}, actual class: {y_train[0]}\")"
   ]
  },
  {
   "cell_type": "markdown",
   "metadata": {},
   "source": [
    "# 13. Постройте разделяющую кривую, полученную в результате обучения модели. Совместите прямую с графиком из пункта 8."
   ]
  },
  {
   "cell_type": "code",
   "execution_count": 20,
   "metadata": {},
   "outputs": [],
   "source": [
    "def decision_boundary_contour(theta1, theta2, theta3):\n",
    "    u = np.linspace(-1, 1.2, 50)\n",
    "    v = np.linspace(-1, 1.3, 50)\n",
    "    z1 = np.zeros(shape=(len(u), len(v)))\n",
    "    z2 = np.zeros(shape=(len(u), len(v)))\n",
    "    z3 = np.zeros(shape=(len(u), len(v)))\n",
    "    for i in range(len(u)):\n",
    "        for j in range(len(v)):\n",
    "            z1[i, j] = build_poly_features(np.array(u[i]), np.array(v[j])).dot(theta1)\n",
    "            z2[i, j] = build_poly_features(np.array(u[i]), np.array(v[j])).dot(theta2)\n",
    "            z3[i, j] = build_poly_features(np.array(u[i]), np.array(v[j])).dot(theta3)\n",
    "\n",
    "    z1 = z1.T\n",
    "    z2 = z2.T\n",
    "    z3 = z3.T\n",
    "    fig, ax_reg = plt.subplots()\n",
    "    ax_reg.contour(u, v, z1, levels=0, colors='b')\n",
    "    ax_reg.contour(u, v, z2, levels=0, colors='g')\n",
    "    ax_reg.contour(u, v, z3, levels=0, colors='y')\n",
    "    z_true = df[df['passed'] == 1]\n",
    "    z_false = df[df['passed'] == 0]\n",
    "    ax_reg.scatter(z_true['first_test'], z_true['second_test'], marker='o', c='g', label='Passed', s=20)\n",
    "    ax_reg.scatter(z_false['first_test'], z_false['second_test'], marker='x', c='r', label='Not passed', s=20)\n",
    "    ax_reg.legend(loc='upper right');\n",
    "    ax_reg.set_xlabel('First test')\n",
    "    ax_reg.set_ylabel('Second test')\n",
    "    ax_reg.set_title('Decision boundary, lambda = %f' % cls_grad_reg.reg_L)\n",
    "    plt.show()"
   ]
  },
  {
   "cell_type": "markdown",
   "metadata": {},
   "source": [
    "Проведём границу решений для всех трёх алгоритмов. Можно увидеть, что алгоритмы дают результаты, на основе которых можно построить приблизительно одинаковые границы с некоторой погрешностью."
   ]
  },
  {
   "cell_type": "code",
   "execution_count": 21,
   "metadata": {},
   "outputs": [
    {
     "data": {
      "image/png": "[encoded data removed]",
      "text/plain": [
       "<Figure size 432x288 with 1 Axes>"
      ]
     },
     "metadata": {
      "needs_background": "light"
     },
     "output_type": "display_data"
    }
   ],
   "source": [
    "decision_boundary_contour(cls_grad_reg.weights, cls_nm_reg.weights, cls_bfgs_reg.weights)"
   ]
  },
  {
   "cell_type": "markdown",
   "metadata": {},
   "source": [
    "# 14. Попробуйте различные значения параметра регуляризации λ. Как выбор данного значения влияет на вид разделяющей кривой? Ответ дайте в виде графиков."
   ]
  },
  {
   "cell_type": "code",
   "execution_count": 24,
   "metadata": {},
   "outputs": [],
   "source": [
    "cls1 = LogisticRegression(fit_method='gradient_descent', max_steps=300000, learning_rate=0.5,\n",
    "                          regularized=True, reg_L=0.5)\n",
    "cls1.fit(X_poly, y_train)\n",
    "\n",
    "cls2 = LogisticRegression(fit_method='gradient_descent', max_steps=300000, learning_rate=0.5,\n",
    "                          regularized=True, reg_L=0.05)\n",
    "cls2.fit(X_poly, y_train)\n",
    "\n",
    "cls3 = LogisticRegression(fit_method='gradient_descent', max_steps=300000, learning_rate=0.5,\n",
    "                          regularized=True, reg_L=0.005)\n",
    "cls3.fit(X_poly, y_train)"
   ]
  },
  {
   "cell_type": "code",
   "execution_count": 25,
   "metadata": {},
   "outputs": [
    {
     "data": {
      "image/png": "[encoded data removed]",
      "text/plain": [
       "<Figure size 432x288 with 1 Axes>"
      ]
     },
     "metadata": {
      "needs_background": "light"
     },
     "output_type": "display_data"
    }
   ],
   "source": [
    "decision_boundary_contour(cls1.weights, cls2.weights, cls3.weights)"
   ]
  },
  {
   "cell_type": "markdown",
   "metadata": {},
   "source": [
    "Как видим из графика, изменение параметра регуляризации λ не производит сильного влияния на границу решений."
   ]
  },
  {
   "cell_type": "markdown",
   "metadata": {},
   "source": [
    "# 15. Загрузите данные ex2data3.mat из файла."
   ]
  },
  {
   "cell_type": "code",
   "execution_count": 26,
   "metadata": {},
   "outputs": [],
   "source": [
    "from scipy.io import loadmat\n",
    "\n",
    "mat = loadmat('ex2data3.mat')\n",
    "X_train, y_train = mat['X'], mat['y']\n",
    "y_train = y_train.reshape(y_train.shape[0])\n",
    "y_train = np.where(y_train != 10, y_train, 0)"
   ]
  },
  {
   "cell_type": "markdown",
   "metadata": {},
   "source": [
    "# 16. Визуализируйте несколько случайных изображений из набора данных. Визуализация должна содержать каждую цифру как минимум один раз."
   ]
  },
  {
   "cell_type": "code",
   "execution_count": 27,
   "metadata": {},
   "outputs": [
    {
     "data": {
      "image/png": "[encoded data removed]",
      "text/plain": [
       "<Figure size 1440x576 with 10 Axes>"
      ]
     },
     "metadata": {
      "needs_background": "light"
     },
     "output_type": "display_data"
    }
   ],
   "source": [
    "def vector_to_matrix(x):\n",
    "    len_vec = len(x)\n",
    "    step = int(np.sqrt(len_vec))\n",
    "    assert step ** 2 == len_vec, 'Matrix should be squared' \n",
    "    matrix = [x[left:left+step] for left in range(0, len_vec, step)]\n",
    "    np_matrix = np.array(matrix).T\n",
    "    reversed_matrix = np.flip(np_matrix, axis=0)\n",
    "    return reversed_matrix\n",
    "\n",
    "nums = list(range(150, 5000, 500))\n",
    "pictures = [vector_to_matrix(X_train[i]) for i in nums]\n",
    "\n",
    "fig, axs = plt.subplots(2, 5, figsize=(20, 8))\n",
    "for i, ax in enumerate(axs.flatten()):\n",
    "    ax.pcolor(pictures[i], cmap=cm.gray)\n",
    "    res = y_train[nums[i]]\n",
    "    if res == 10:\n",
    "        res = 0\n",
    "    ax.set_title(f'Number {res}')\n",
    "\n",
    "plt.show()"
   ]
  },
  {
   "cell_type": "markdown",
   "metadata": {},
   "source": [
    "# 17. Реализуйте бинарный классификатор с помощью логистической регрессии с использованием векторизации (функции потерь и градиентного спуска).\n"
   ]
  },
  {
   "cell_type": "markdown",
   "metadata": {},
   "source": [
    "Бинарный классификатор c использованием векторизации реализован в классе `LogisticRegression`. Он содержит функцию потерь `cost_func_non_regularized`, которая используется в методе градиентного спуска `gradient_descent`."
   ]
  },
  {
   "cell_type": "markdown",
   "metadata": {},
   "source": [
    "# 18. Добавьте L2-регуляризацию к модели."
   ]
  },
  {
   "cell_type": "markdown",
   "metadata": {},
   "source": [
    "Регуляризация добавляется к модели путём передачи в конструктор параметера `regularized=True`. В этом случае будет использовать использоваться функция стоимости `cost_func_regularized`. Градиент также будет высчитываться с учётом параметера регуляризации."
   ]
  },
  {
   "cell_type": "markdown",
   "metadata": {},
   "source": [
    "# 19. Реализуйте многоклассовую классификацию по методу “один против всех”."
   ]
  },
  {
   "cell_type": "markdown",
   "metadata": {},
   "source": [
    "Многоклассовая классификация реализована в классе `MulticlassLogisticRegression`. Обучается 10 бинарных классификаторов, по одному для каждого класса."
   ]
  },
  {
   "cell_type": "code",
   "execution_count": 28,
   "metadata": {},
   "outputs": [],
   "source": [
    "class MulticlassLogisticRegression:\n",
    "    classifier = LogisticRegression\n",
    "\n",
    "    def __init__(self, num_classes=10):\n",
    "        self.num_classes = num_classes\n",
    "        self.classifiers = [\n",
    "            self.classifier(fit_method='gradient_descent', learning_rate=0.5, regularized=True, reg_L=0.1)\n",
    "            for i in range(num_classes)\n",
    "        ]\n",
    "    \n",
    "    def fit(self, X, y):\n",
    "        for i in range(self.num_classes):\n",
    "            y_train = (y == i).astype(int)\n",
    "            self.classifiers[i].fit(X, y_train)\n",
    "    \n",
    "    def predict(self, X):\n",
    "        h = []\n",
    "        for cls in self.classifiers:\n",
    "            h.append(cls.calculate_hypotesis(X))\n",
    "            \n",
    "        return np.argmax(np.array(h), axis=0)"
   ]
  },
  {
   "cell_type": "markdown",
   "metadata": {},
   "source": [
    "# 20. Реализуйте функцию предсказания класса по изображению с использованием обученных классификаторов."
   ]
  },
  {
   "cell_type": "markdown",
   "metadata": {},
   "source": [
    "Функция предсказания реализована в классе `MulticlassLogisticRegression` в методе `predict`. Каждый из обученных классификаторов высчитывает гипотезу - вероятность того, что картинка принадлежит соответствующему классу."
   ]
  },
  {
   "cell_type": "code",
   "execution_count": 29,
   "metadata": {},
   "outputs": [],
   "source": [
    "cls_mult = MulticlassLogisticRegression()\n",
    "cls_mult.fit(X_train, y_train)"
   ]
  },
  {
   "cell_type": "code",
   "execution_count": 30,
   "metadata": {},
   "outputs": [
    {
     "name": "stdout",
     "output_type": "stream",
     "text": [
      "Predicted class: 9, actual class: 9\n"
     ]
    }
   ],
   "source": [
    "pred_value = cls_mult.predict(X_train[-1])\n",
    "print(f\"Predicted class: {pred_value}, actual class: {y_train[-1]}\")"
   ]
  },
  {
   "cell_type": "markdown",
   "metadata": {},
   "source": [
    "# 21. Процент правильных классификаций на обучающей выборке должен составлять около 95%."
   ]
  },
  {
   "cell_type": "code",
   "execution_count": 31,
   "metadata": {},
   "outputs": [],
   "source": [
    "def accuracy(cls, X, y):\n",
    "    error = cls.predict(X) - y\n",
    "    return 1.0 - (float(np.count_nonzero(error)) / len(error))"
   ]
  },
  {
   "cell_type": "code",
   "execution_count": 32,
   "metadata": {},
   "outputs": [
    {
     "name": "stdout",
     "output_type": "stream",
     "text": [
      "Accuracy: 0.9588\n"
     ]
    }
   ],
   "source": [
    "acc = accuracy(cls_mult, X_train, y_train)\n",
    "print(f\"Accuracy: {acc}\")"
   ]
  }
 ],
 "metadata": {
  "kernelspec": {
   "display_name": "Python 3",
   "language": "python",
   "name": "python3"
  },
  "language_info": {
   "codemirror_mode": {
    "name": "ipython",
    "version": 3
   },
   "file_extension": ".py",
   "mimetype": "text/x-python",
   "name": "python",
   "nbconvert_exporter": "python",
   "pygments_lexer": "ipython3",
   "version": "3.6.7"
  }
 },
 "nbformat": 4,
 "nbformat_minor": 2
}
