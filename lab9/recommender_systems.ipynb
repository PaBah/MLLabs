{
 "cells": [
  {
   "cell_type": "markdown",
   "metadata": {},
   "source": [
    "# Отчёт по лабораторной работе №9 \"Рекомендательные системы\""
   ]
  },
  {
   "cell_type": "code",
   "execution_count": 1,
   "metadata": {},
   "outputs": [],
   "source": [
    "import numpy as np\n",
    "from scipy.io import loadmat\n",
    "from scipy.sparse.linalg import svds"
   ]
  },
  {
   "cell_type": "code",
   "execution_count": 2,
   "metadata": {},
   "outputs": [],
   "source": [
    "def load_file(filename, keys=None):\n",
    "    if keys is None:\n",
    "        keys = ['X', 'y']\n",
    "    mat = loadmat(filename)\n",
    "    ret = tuple([mat[k].reshape(mat[k].shape[0]) if k.startswith('y') else mat[k] for k in keys])\n",
    "    return ret"
   ]
  },
  {
   "cell_type": "markdown",
   "metadata": {},
   "source": [
    "# 1. Загрузите данные ex9_movies.mat из файла."
   ]
  },
  {
   "cell_type": "code",
   "execution_count": 3,
   "metadata": {},
   "outputs": [
    {
     "name": "stdout",
     "output_type": "stream",
     "text": [
      "Y shape: (1682, 943)\n",
      "R shape: (1682, 943)\n"
     ]
    }
   ],
   "source": [
    "Y, R = load_file('ex9_movies.mat', keys=['Y', 'R'])\n",
    "print(f'Y shape: {Y.shape}')\n",
    "print(f'R shape: {R.shape}')"
   ]
  },
  {
   "cell_type": "markdown",
   "metadata": {},
   "source": [
    "# 2. Выберите число признаков фильмов (n) для реализации алгоритма коллаборативной фильтрации."
   ]
  },
  {
   "cell_type": "markdown",
   "metadata": {},
   "source": [
    "Пусть число признаков фильмов будет равно 20."
   ]
  },
  {
   "cell_type": "code",
   "execution_count": 4,
   "metadata": {},
   "outputs": [],
   "source": [
    "N_FACTORS = 20"
   ]
  },
  {
   "cell_type": "markdown",
   "metadata": {},
   "source": [
    "#### Все функции, которые необходимо реализовать в последующих заданиях, будут реализованы в классе `Recommender`. "
   ]
  },
  {
   "cell_type": "code",
   "execution_count": 5,
   "metadata": {},
   "outputs": [],
   "source": [
    "class Recommender:\n",
    "    def __init__(self, n_factors=N_FACTORS, learning_rate=0.5, reg_L=0.1, max_steps=1e+3):\n",
    "        self.n_factors = n_factors\n",
    "        self.learning_rate = learning_rate\n",
    "        self.reg_L = reg_L\n",
    "        self.max_steps = int(max_steps)\n",
    "        self.cost_history = []\n",
    "        \n",
    "    def fit(self, Y, R):\n",
    "        self.n_m, self.n_u = Y.shape \n",
    "        self.X = np.random.rand(self.n_m, self.n_factors)\n",
    "        self.Theta = np.random.rand(self.n_factors, self.n_u)\n",
    "\n",
    "        for cur_step in range(self.max_steps):\n",
    "            self.gradient_descent(Y, R)\n",
    "            cost = self.cost_func(Y, R)\n",
    "            self.cost_history.append(cost)\n",
    "\n",
    "    def cost_func(self, Y, R):\n",
    "        hypotesis = np.dot(self.X, self.Theta)\n",
    "        mean_error = R * (hypotesis - Y)\n",
    "        mean_squared_error = mean_error ** 2\n",
    "        cost = mean_squared_error.sum() / 2\n",
    "        regularized_cost = cost + (self.reg_L / 2) * ((self.X ** 2).sum() + (self.Theta ** 2).sum())\n",
    "        return regularized_cost\n",
    "    \n",
    "    def gradient_descent(self, Y, R):\n",
    "        hypotesis = np.dot(self.X, self.Theta)\n",
    "        mean_error = R * (hypotesis - Y)\n",
    "        dX = np.dot(mean_error, self.Theta.T)\n",
    "        dTheta = np.dot(self.X.T, mean_error)\n",
    "        regularized_dX = dX + self.reg_L * self.X\n",
    "        regularized_dTheta = dTheta + self.reg_L * self.Theta\n",
    "        self.X -= self.learning_rate * regularized_dX\n",
    "        self.Theta -= self.learning_rate * regularized_dTheta\n",
    "\n",
    "    def predict(self, user_id, R, top=5):\n",
    "        predictions = np.dot(self.X, self.Theta)\n",
    "        user_ratings = (R[:, user_id] != 1) * predictions[:, user_id]\n",
    "        return user_ratings.argsort()[-top:][::-1]"
   ]
  },
  {
   "cell_type": "markdown",
   "metadata": {},
   "source": [
    "# 3. Реализуйте функцию стоимости для алгоритма."
   ]
  },
  {
   "cell_type": "markdown",
   "metadata": {},
   "source": [
    "Функция стоимости реализована в классе `Recommender` в методе `cost_func`."
   ]
  },
  {
   "cell_type": "markdown",
   "metadata": {},
   "source": [
    "```\n",
    "def cost_func(self, Y, R):\n",
    "    hypotesis = np.dot(self.X, self.Theta)\n",
    "    mean_error = R * (hypotesis - Y)\n",
    "    mean_squared_error = mean_error ** 2\n",
    "    cost = mean_squared_error.sum() / 2\n",
    "    regularized_cost = cost + (self.reg_L / 2) * ((self.X ** 2).sum() + (self.Theta ** 2).sum())\n",
    "    return regularized_cost\n",
    "```"
   ]
  },
  {
   "cell_type": "markdown",
   "metadata": {},
   "source": [
    "# 4. Реализуйте функцию вычисления градиентов."
   ]
  },
  {
   "cell_type": "markdown",
   "metadata": {},
   "source": [
    "Функция вычисления градиентов реализована в классе `Recommender` в методе `gradient_descent`."
   ]
  },
  {
   "cell_type": "markdown",
   "metadata": {},
   "source": [
    "```\n",
    "def gradient_descent(self, Y, R):\n",
    "    hypotesis = np.dot(self.X, self.Theta)\n",
    "    mean_error = R * (hypotesis - Y)\n",
    "    dX = np.dot(mean_error, self.Theta.T)\n",
    "    dTheta = np.dot(self.X.T, mean_error)\n",
    "    regularized_dX = dX + self.reg_L * self.X\n",
    "    regularized_dTheta = dTheta + self.reg_L * self.Theta\n",
    "    self.X -= self.learning_rate * regularized_dX\n",
    "    self.Theta -= self.learning_rate * regularized_dTheta\n",
    "```"
   ]
  },
  {
   "cell_type": "markdown",
   "metadata": {},
   "source": [
    "# 5. При реализации используйте векторизацию для ускорения процесса обучения."
   ]
  },
  {
   "cell_type": "markdown",
   "metadata": {},
   "source": [
    "Рейтинги всех пользователей для всех фильмов предсказывается путём перемножений матриц:\n",
    "\n",
    "```hypotesis = np.dot(self.X, self.Theta)```\n",
    "\n",
    "Градиентный спуск также высчитывается с помощью векторизации:\n",
    "\n",
    "```self.Theta -= self.learning_rate * dX\n",
    "self.X -= self.learning_rate * dTheta```\n",
    "\n",
    "где `self.X` и `self.Theta` - матрицы размера `(n_movies x n_factors)` и `(n_factors * n_users)`"
   ]
  },
  {
   "cell_type": "markdown",
   "metadata": {},
   "source": [
    "# 6. Добавьте L2-регуляризацию в модель."
   ]
  },
  {
   "cell_type": "markdown",
   "metadata": {},
   "source": [
    "Регулязация добавляется в функцию стоимости в следующей строчке:\n",
    "\n",
    "`regularized_cost = cost + (self.reg_L / 2) * ((self.X ** 2).sum() + (self.Theta ** 2).sum())`\n",
    "\n",
    "В градиентный спуск:\n",
    "\n",
    "`regularized_dX = dX + self.reg_L * self.X\n",
    "regularized_dTheta = dTheta + self.reg_L * self.Theta`"
   ]
  },
  {
   "cell_type": "markdown",
   "metadata": {},
   "source": [
    "# 7. Обучите модель с помощью градиентного спуска или других методов оптимизации."
   ]
  },
  {
   "cell_type": "markdown",
   "metadata": {},
   "source": [
    "Установим параметры: скорость обучения - 0.001, параметр регуляризации - 10, количество шагов - 1000."
   ]
  },
  {
   "cell_type": "code",
   "execution_count": 6,
   "metadata": {},
   "outputs": [],
   "source": [
    "rec = Recommender(learning_rate=0.001, reg_L=10, max_steps=1e+3)\n",
    "rec.fit(Y, R)"
   ]
  },
  {
   "cell_type": "markdown",
   "metadata": {},
   "source": [
    "# 8. Добавьте несколько оценок фильмов от себя. Файл movie_ids.txt содержит индексы каждого из фильмов."
   ]
  },
  {
   "cell_type": "markdown",
   "metadata": {},
   "source": [
    "Добавим нового пользователя в матрицу рейтингов. Это будут мои личные оценки для некоторых фильмов."
   ]
  },
  {
   "cell_type": "code",
   "execution_count": 7,
   "metadata": {},
   "outputs": [],
   "source": [
    "my_ratings, presence = np.zeros(Y.shape[0], dtype=int), np.zeros(R.shape[0], dtype=int)\n",
    "my_ratings[95], presence[95] = 5, 1  # Terminator 2: Judgment Day (1991)\n",
    "my_ratings[194], presence[194] = 5, 1  # Terminator, The (1984)\n",
    "my_ratings[585], presence[585] = 5, 1  # Terminal Velocity (1994)\n",
    "my_ratings[942], presence[942] = 5, 1  # Killing Zoe (1994)\n",
    "my_ratings[1216], presence[1216] = 5, 1  # Assassins (1995)\n",
    "my_ratings[312], presence[312] = 1, 1  # Titanic (1997)\n",
    "my_ratings[318], presence[318] = 1, 1  # Everyone Says I Love You (1996)\n",
    "my_ratings[725], presence[725] = 1, 1  # Fluke (1995)\n",
    "\n",
    "my_Y = np.column_stack((Y, my_ratings))\n",
    "my_R = np.column_stack((R, presence))\n",
    "user_id = my_Y.shape[1] - 1"
   ]
  },
  {
   "cell_type": "markdown",
   "metadata": {},
   "source": [
    "# 9. Сделайте рекомендации для себя. Совпали ли они с реальностью?"
   ]
  },
  {
   "cell_type": "markdown",
   "metadata": {},
   "source": [
    "Обучим модель с учётом внесённых рейтингов в матрицу от себя."
   ]
  },
  {
   "cell_type": "code",
   "execution_count": 8,
   "metadata": {},
   "outputs": [],
   "source": [
    "rec = Recommender(learning_rate=0.001, reg_L=10, max_steps=1e+3)\n",
    "rec.fit(my_Y, my_R)"
   ]
  },
  {
   "cell_type": "markdown",
   "metadata": {},
   "source": [
    "Далее предскажем топ 5 фильмов, которые могли бы быть мне интересны."
   ]
  },
  {
   "cell_type": "code",
   "execution_count": 9,
   "metadata": {},
   "outputs": [],
   "source": [
    "top_movies = rec.predict(user_id, my_R, top=5)"
   ]
  },
  {
   "cell_type": "code",
   "execution_count": 10,
   "metadata": {},
   "outputs": [
    {
     "name": "stdout",
     "output_type": "stream",
     "text": [
      "Star Wars (1977)\n",
      "Usual Suspects, The (1995)\n",
      "Raiders of the Lost Ark (1981)\n",
      "Cop Land (1997)\n",
      "Fifth Element, The (1997)\n"
     ]
    }
   ],
   "source": [
    "with open('movie_ids.txt', encoding=\"ISO-8859-1\") as f:\n",
    "    movie_names = [' '.join(line.split(' ')[1:]).replace('\\n', '') for line in f.readlines()]\n",
    "\n",
    "for movie in np.array(movie_names)[top_movies]:\n",
    "    print(movie)"
   ]
  },
  {
   "cell_type": "markdown",
   "metadata": {},
   "source": [
    "Рекомендации совпадают с реальность. Предсказанные фильмы относятся к жанру боевики/триллеры. Фильмы этих жанров были отмечены мной выскоим рейтингом."
   ]
  },
  {
   "cell_type": "markdown",
   "metadata": {},
   "source": [
    "# 10. Также обучите модель с помощью сингулярного разложения матриц. Отличаются ли полученные результаты?"
   ]
  },
  {
   "cell_type": "code",
   "execution_count": 11,
   "metadata": {},
   "outputs": [],
   "source": [
    "class SVDRecommender(Recommender): \n",
    "    def fit(self, Y, R):\n",
    "        self.X, _, self.Theta = svds(Y.astype('float64'), k=N_FACTORS)"
   ]
  },
  {
   "cell_type": "code",
   "execution_count": 12,
   "metadata": {},
   "outputs": [
    {
     "name": "stdout",
     "output_type": "stream",
     "text": [
      "Fugitive, The (1993)\n",
      "Braveheart (1995)\n",
      "Raiders of the Lost Ark (1981)\n",
      "Pulp Fiction (1994)\n",
      "Usual Suspects, The (1995)\n"
     ]
    }
   ],
   "source": [
    "svd_rec = SVDRecommender()\n",
    "svd_rec.fit(my_Y, my_R)\n",
    "top_mov = svd_rec.predict(user_id, my_R, top=5)\n",
    "for movie in np.array(movie_names)[top_mov]:\n",
    "    print(movie)"
   ]
  },
  {
   "cell_type": "markdown",
   "metadata": {},
   "source": [
    "Результаты также совпадают с реальностью. Алогоритм порекоммендовал фильмы жанра боевики/триллеры. Фильмы этих жанров были отмечены мной выскоим рейтингом по сравнению с другими фильмами. Некоторые из фильмов даже совпали с предыдущими результами, где модель была обучена с помощью градиентного спуска."
   ]
  },
  {
   "cell_type": "code",
   "execution_count": null,
   "metadata": {},
   "outputs": [],
   "source": []
  },
  {
   "cell_type": "code",
   "execution_count": null,
   "metadata": {},
   "outputs": [],
   "source": []
  }
 ],
 "metadata": {
  "kernelspec": {
   "display_name": "Python 3",
   "language": "python",
   "name": "python3"
  },
  "language_info": {
   "codemirror_mode": {
    "name": "ipython",
    "version": 3
   },
   "file_extension": ".py",
   "mimetype": "text/x-python",
   "name": "python",
   "nbconvert_exporter": "python",
   "pygments_lexer": "ipython3",
   "version": "3.6.7"
  }
 },
 "nbformat": 4,
 "nbformat_minor": 2
}
